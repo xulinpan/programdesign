{
 "cells": [
  {
   "cell_type": "markdown",
   "id": "f6cf5552",
   "metadata": {},
   "source": [
    "# 程序设计基础"
   ]
  },
  {
   "cell_type": "code",
   "execution_count": 4,
   "id": "876a7ac1",
   "metadata": {},
   "outputs": [],
   "source": [
    "# calculate the posterior distribution using bayesian rule\n",
    "p_a=0.2\n",
    "p_b=0.3\n",
    "p_c=0.5\n",
    "p_y_a=0.05"
   ]
  },
  {
   "cell_type": "code",
   "execution_count": null,
   "id": "400a7ae3",
   "metadata": {},
   "outputs": [],
   "source": []
  }
 ],
 "metadata": {
  "kernelspec": {
   "display_name": "Python 3",
   "language": "python",
   "name": "python3"
  },
  "language_info": {
   "codemirror_mode": {
    "name": "ipython",
    "version": 3
   },
   "file_extension": ".py",
   "mimetype": "text/x-python",
   "name": "python",
   "nbconvert_exporter": "python",
   "pygments_lexer": "ipython3",
   "version": "3.7.10"
  }
 },
 "nbformat": 4,
 "nbformat_minor": 5
}
